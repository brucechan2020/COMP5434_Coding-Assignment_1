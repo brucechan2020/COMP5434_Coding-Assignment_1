{
 "cells": [
  {
   "cell_type": "code",
   "execution_count": 21,
   "metadata": {},
   "outputs": [],
   "source": [
    "# import regex\n",
    "import re\n",
    "\n",
    "# download stopwords\n",
    "import nltk\n",
    "# nltk.download('stopwords')\n",
    "\n",
    "# import nltk for stopwords\n",
    "from nltk.corpus import stopwords\n",
    "stop_words = set(stopwords.words('english'))\n",
    "\n",
    "\n",
    "with open(\"hp.txt\", \"r\") as file:\n",
    "    text = file.read()\n",
    "\n",
    "# convert to lower case\n",
    "lower_string = text.lower()\n",
    "\n",
    "# remove numbers\n",
    "no_number_string = re.sub(r'\\d+','',lower_string)\n",
    "\n",
    "# remove all punctuation except words and space\n",
    "no_punc_string = re.sub(r'[^\\w\\s]','', no_number_string)\n",
    "\n",
    "# remove white spaces\n",
    "no_wspace_string = no_punc_string.strip()\n",
    "\n",
    "# convert string to list of words\n",
    "lst_string = [no_wspace_string][0].split()\n",
    "\n",
    "# remove stopwords\n",
    "no_stpwords_string=\"\"\n",
    "for i in lst_string:\n",
    "    if not i in stop_words:\n",
    "        no_stpwords_string += i+' '\n",
    "\n",
    "# removing last space\n",
    "no_stpwords_string = no_stpwords_string[:-1]\n",
    "\n",
    "# write to new file line by line\n",
    "with open(\"output.txt\", \"w\") as file:\n",
    "    for word in no_stpwords_string.split():\n",
    "        file.write(word + \"\\n\")"
   ]
  }
 ],
 "metadata": {
  "kernelspec": {
   "display_name": "base",
   "language": "python",
   "name": "python3"
  },
  "language_info": {
   "codemirror_mode": {
    "name": "ipython",
    "version": 3
   },
   "file_extension": ".py",
   "mimetype": "text/x-python",
   "name": "python",
   "nbconvert_exporter": "python",
   "pygments_lexer": "ipython3",
   "version": "3.10.9"
  },
  "orig_nbformat": 4
 },
 "nbformat": 4,
 "nbformat_minor": 2
}
