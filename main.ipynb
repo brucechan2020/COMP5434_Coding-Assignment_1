{
 "cells": [
  {
   "cell_type": "code",
   "execution_count": 20,
   "metadata": {},
   "outputs": [
    {
     "name": "stdout",
     "output_type": "stream",
     "text": [
      "WordCount:\n",
      "the 53632\n",
      "and 30464\n",
      "to 26730\n",
      "of 24387\n",
      "Harry 22882\n",
      "a 19963\n",
      "he 16045\n",
      "was 15526\n",
      "s 14719\n",
      "said 14472\n",
      "his 13708\n",
      "I 13489\n",
      "in 12357\n",
      "you 11802\n",
      "it 11753\n",
      "that 10182\n",
      "had 10093\n",
      "at 8391\n",
      "t 7672\n",
      "as 7082\n"
     ]
    }
   ],
   "source": [
    "!python3 mapreduce.py hp.txt"
   ]
  },
  {
   "cell_type": "code",
   "execution_count": 19,
   "metadata": {},
   "outputs": [
    {
     "name": "stdout",
     "output_type": "stream",
     "text": [
      "WordCount:\n",
      "harry 21456\n",
      "said 14491\n",
      "ron 5820\n",
      "potter 5816\n",
      "hermione 5109\n",
      "page 4816\n",
      "jk 4713\n",
      "rowling 4713\n",
      "back 3233\n",
      "dumbledore 3020\n",
      "could 2815\n",
      "one 2559\n",
      "like 2379\n",
      "looked 2361\n",
      "know 2286\n",
      "would 2263\n",
      "around 2261\n",
      "well 2260\n",
      "got 2081\n",
      "professor 2031\n"
     ]
    }
   ],
   "source": [
    "!python3 mapreduce.py output.txt"
   ]
  }
 ],
 "metadata": {
  "kernelspec": {
   "display_name": "base",
   "language": "python",
   "name": "python3"
  },
  "language_info": {
   "codemirror_mode": {
    "name": "ipython",
    "version": 3
   },
   "file_extension": ".py",
   "mimetype": "text/x-python",
   "name": "python",
   "nbconvert_exporter": "python",
   "pygments_lexer": "ipython3",
   "version": "3.10.9"
  },
  "orig_nbformat": 4
 },
 "nbformat": 4,
 "nbformat_minor": 2
}
