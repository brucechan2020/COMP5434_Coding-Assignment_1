{
 "cells": [
  {
   "cell_type": "code",
   "execution_count": 10,
   "metadata": {},
   "outputs": [
    {
     "name": "stdout",
     "output_type": "stream",
     "text": [
      "WordCount:\n",
      "the 53523\n",
      "and 30057\n",
      "to 26408\n",
      "of 24265\n",
      "a 19921\n",
      "was 15198\n",
      "Harry 15132\n",
      "he 14466\n",
      "his 13654\n",
      "said 12746\n",
      "in 11989\n",
      "had 10012\n",
      "— 9515\n",
      "that 8884\n",
      "at 8356\n",
      "you 8115\n",
      "it 7380\n",
      "I 7207\n",
      "as 7044\n",
      "with 6299\n"
     ]
    }
   ],
   "source": [
    "!python3 mapreduce.py hp.txt"
   ]
  },
  {
   "cell_type": "code",
   "execution_count": 11,
   "metadata": {},
   "outputs": [
    {
     "name": "stdout",
     "output_type": "stream",
     "text": [
      "WordCount:\n",
      "harry 21456\n",
      "said 14491\n",
      "ron 5820\n",
      "potter 5816\n",
      "hermione 5109\n",
      "page 4816\n",
      "jk 4713\n",
      "rowling 4713\n",
      "back 3233\n",
      "dumbledore 3020\n",
      "could 2815\n",
      "one 2559\n",
      "like 2379\n",
      "looked 2361\n",
      "know 2286\n",
      "would 2263\n",
      "around 2261\n",
      "well 2260\n",
      "got 2081\n",
      "professor 2031\n"
     ]
    }
   ],
   "source": [
    "!python3 mapreduce.py output.txt"
   ]
  }
 ],
 "metadata": {
  "kernelspec": {
   "display_name": "base",
   "language": "python",
   "name": "python3"
  },
  "language_info": {
   "codemirror_mode": {
    "name": "ipython",
    "version": 3
   },
   "file_extension": ".py",
   "mimetype": "text/x-python",
   "name": "python",
   "nbconvert_exporter": "python",
   "pygments_lexer": "ipython3",
   "version": "3.10.9"
  },
  "orig_nbformat": 4
 },
 "nbformat": 4,
 "nbformat_minor": 2
}
